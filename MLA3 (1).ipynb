{
 "cells": [
  {
   "cell_type": "code",
   "execution_count": 11,
   "id": "78d5a097-78e8-4399-ae53-0fdd80bb6614",
   "metadata": {},
   "outputs": [],
   "source": [
    "import numpy as np\n",
    "import pandas as pd\n",
    "from sklearn.model_selection import KFold, train_test_split\n",
    "from sklearn.preprocessing import StandardScaler\n",
    "from sklearn.metrics import r2_score\n"
   ]
  },
  {
   "cell_type": "code",
   "execution_count": 13,
   "id": "b4441817-14ed-4913-894d-59d633963782",
   "metadata": {},
   "outputs": [],
   "source": [
    "f = pd.read_csv('USA_Housing.csv')\n",
    "\n",
    "X = df.drop('Price', axis=1).values  \n",
    "y = df['Price'].values  \n"
   ]
  },
  {
   "cell_type": "code",
   "execution_count": 15,
   "id": "3c1f9da8-4437-4826-8212-a5415ede494e",
   "metadata": {},
   "outputs": [],
   "source": [
    "scaler = StandardScaler()\n",
    "\n",
    "X_scaled = scaler.fit_transform(X)\n"
   ]
  },
  {
   "cell_type": "code",
   "execution_count": 17,
   "id": "8226d88e-7043-486c-9fb8-63582481900f",
   "metadata": {},
   "outputs": [],
   "source": [
    "kf = KFold(n_splits=5, shuffle=True, random_state=42)\n"
   ]
  },
  {
   "cell_type": "code",
   "execution_count": 19,
   "id": "b01f27a7-20fd-4866-a947-6bddc535a937",
   "metadata": {},
   "outputs": [
    {
     "name": "stdout",
     "output_type": "stream",
     "text": [
      "Iteration R2 Score: 0.9179971706985147\n",
      "Iteration R2 Score: 0.9145677884802819\n",
      "Iteration R2 Score: 0.9116116385364479\n",
      "Iteration R2 Score: 0.9193091764960817\n",
      "Iteration R2 Score: 0.9243869413350317\n",
      "Best R2 Score: 0.9243869413350317\n",
      "Best Beta Matrix: \n",
      "[1.23161736e+06 2.30225051e+05 1.63956839e+05 1.21115120e+05\n",
      " 7.83467170e+02 1.50662447e+05]\n"
     ]
    }
   ],
   "source": [
    "best_r2_score = -np.inf\n",
    "best_beta_matrix = None\n",
    "\n",
    "r2_scores = []\n",
    "\n",
    "for train_index, test_index in kf.split(X_scaled):\n",
    "    \n",
    "    X_train, X_test = X_scaled[train_index], X_scaled[test_index]\n",
    "    y_train, y_test = y[train_index], y[test_index]\n",
    "    \n",
    "    X_train_b = np.c_[np.ones((X_train.shape[0], 1)), X_train]  \n",
    "    beta_matrix = np.linalg.inv(X_train_b.T @ X_train_b) @ X_train_b.T @ y_train\n",
    "    \n",
    "    X_test_b = np.c_[np.ones((X_test.shape[0], 1)), X_test] \n",
    "    y_pred = X_test_b @ beta_matrix\n",
    "    \n",
    "    r2 = r2_score(y_test, y_pred)\n",
    "    r2_scores.append(r2)\n",
    "    \n",
    "    \n",
    "    if r2 > best_r2_score:\n",
    "        best_r2_score = r2\n",
    "        best_beta_matrix = beta_matrix\n",
    "\n",
    "    print(f\"Iteration R2 Score: {r2}\")\n",
    "\n",
    "print(f\"Best R2 Score: {best_r2_score}\")\n",
    "print(f\"Best Beta Matrix: \\n{best_beta_matrix}\")\n"
   ]
  },
  {
   "cell_type": "code",
   "execution_count": 21,
   "id": "2b8eb172-0c06-4ee1-b79d-56bc5c588ebc",
   "metadata": {},
   "outputs": [
    {
     "name": "stdout",
     "output_type": "stream",
     "text": [
      "Final R2 Score on the 30% Test Data: 0.9147458156636434\n"
     ]
    }
   ],
   "source": [
    "X_train_full, X_test_full, y_train_full, y_test_full = train_test_split(X_scaled, y, test_size=0.3, random_state=42)\n",
    "X_train_full_b = np.c_[np.ones((X_train_full.shape[0], 1)), X_train_full]\n",
    "X_test_full_b = np.c_[np.ones((X_test_full.shape[0], 1)), X_test_full]\n",
    "y_test_pred_full = X_test_full_b @ best_beta_matrix\n",
    "final_r2_score = r2_score(y_test_full, y_test_pred_full)\n",
    "print(f\"Final R2 Score on the 30% Test Data: {final_r2_score}\")\n"
   ]
  },
  {
   "cell_type": "code",
   "execution_count": 1,
   "id": "9c10fb3c-d804-46b2-93f7-2ca273d0c060",
   "metadata": {},
   "outputs": [],
   "source": [
    "import numpy as np\n",
    "import pandas as pd\n",
    "from sklearn.model_selection import train_test_split\n",
    "from sklearn.preprocessing import StandardScaler\n",
    "from sklearn.metrics import r2_score\n"
   ]
  },
  {
   "cell_type": "code",
   "execution_count": 3,
   "id": "c37ef1ba-849c-4748-a6a9-68d2f0ac8b23",
   "metadata": {},
   "outputs": [],
   "source": [
    "df = pd.read_csv('USA_Housing.csv')\n",
    "\n",
    "X = df.drop('Price', axis=1).values  \n",
    "y = df['Price'].values  \n"
   ]
  },
  {
   "cell_type": "code",
   "execution_count": 5,
   "id": "7f55590f-70c8-4511-9d64-718e3f312f24",
   "metadata": {},
   "outputs": [],
   "source": [
    "\n",
    "X_train, X_temp, y_train, y_temp = train_test_split(X, y, test_size=0.44, random_state=42)\n",
    "\n",
    "X_val, X_test, y_val, y_test = train_test_split(X_temp, y_temp, test_size=0.68, random_state=42) \n"
   ]
  },
  {
   "cell_type": "code",
   "execution_count": 7,
   "id": "b12916b0-260a-4bf1-8ff2-6521ffbd126e",
   "metadata": {},
   "outputs": [],
   "source": [
    "\n",
    "scaler = StandardScaler()\n",
    "\n",
    "X_train_scaled = scaler.fit_transform(X_train)\n",
    "X_val_scaled = scaler.transform(X_val)\n",
    "X_test_scaled = scaler.transform(X_test)\n"
   ]
  },
  {
   "cell_type": "code",
   "execution_count": 9,
   "id": "3940b617-746d-48a6-a750-09c4f48ceffa",
   "metadata": {},
   "outputs": [],
   "source": [
    "def gradient_descent(X, y, learning_rate, iterations):\n",
    "    m, n = X.shape\n",
    "    beta = np.zeros(n)\n",
    "    for _ in range(iterations):\n",
    "        y_pred = X @ beta\n",
    "        gradient = (1 / m) * X.T @ (y_pred - y)\n",
    "        beta -= learning_rate * gradient\n",
    "    return beta\n"
   ]
  },
  {
   "cell_type": "code",
   "execution_count": 11,
   "id": "12b7ea90-af46-4c76-b9bd-a534b65e23c4",
   "metadata": {},
   "outputs": [
    {
     "name": "stdout",
     "output_type": "stream",
     "text": [
      "Training with learning rate: 0.001\n",
      "Learning Rate: 0.001, R² Validation: -0.9915340004162254, R² Test: -0.9243736786923582\n",
      "Training with learning rate: 0.01\n",
      "Learning Rate: 0.01, R² Validation: 0.9202047028645081, R² Test: 0.9133296021779286\n",
      "Training with learning rate: 0.1\n",
      "Learning Rate: 0.1, R² Validation: 0.9202207766800662, R² Test: 0.9133419747998835\n",
      "Training with learning rate: 1\n",
      "Learning Rate: 1, R² Validation: 0.9202207766800662, R² Test: 0.9133419747998835\n"
     ]
    }
   ],
   "source": [
    "learning_rates = [0.001, 0.01, 0.1, 1]\n",
    "iterations = 1000\n",
    "best_r2_val = -np.inf  \n",
    "best_beta = None \n",
    "\n",
    "X_train_scaled_b = np.c_[np.ones((X_train_scaled.shape[0], 1)), X_train_scaled]\n",
    "X_val_scaled_b = np.c_[np.ones((X_val_scaled.shape[0], 1)), X_val_scaled]\n",
    "X_test_scaled_b = np.c_[np.ones((X_test_scaled.shape[0], 1)), X_test_scaled]\n",
    "\n",
    "for lr in learning_rates:\n",
    "    print(f\"Training with learning rate: {lr}\")\n",
    "    \n",
    "    beta = gradient_descent(X_train_scaled_b, y_train, learning_rate=lr, iterations=iterations)\n",
    "    \n",
    "    y_val_pred = X_val_scaled_b @ beta\n",
    "    \n",
    "    r2_val = r2_score(y_val, y_val_pred)\n",
    "    \n",
    "    y_test_pred = X_test_scaled_b @ beta\n",
    "   \n",
    "    r2_test = r2_score(y_test, y_test_pred)\n",
    "    \n",
    "    print(f\"Learning Rate: {lr}, R² Validation: {r2_val}, R² Test: {r2_test}\")\n",
    "    \n",
    "    if r2_val > best_r2_val:\n",
    "        best_r2_val = r2_val\n",
    "        best_beta = beta\n",
    "        best_learning_rate = lr\n"
   ]
  },
  {
   "cell_type": "code",
   "execution_count": 13,
   "id": "3b32514e-3a91-4d34-bf59-8590b9ad29ca",
   "metadata": {},
   "outputs": [
    {
     "name": "stdout",
     "output_type": "stream",
     "text": [
      "Best Learning Rate: 0.1\n",
      "Final R² Score on the Test Set: 0.9133419747998835\n",
      "Best Beta Coefficients: \n",
      "[1225106.34781021  231827.54854547  166006.22902472  120763.07797071\n",
      "    2922.26769971  152609.02782229]\n"
     ]
    }
   ],
   "source": [
    "y_test_pred_best = X_test_scaled_b @ best_beta\n",
    "\n",
    "final_r2_test = r2_score(y_test, y_test_pred_best)\n",
    "\n",
    "print(f\"Best Learning Rate: {best_learning_rate}\")\n",
    "print(f\"Final R² Score on the Test Set: {final_r2_test}\")\n",
    "print(f\"Best Beta Coefficients: \\n{best_beta}\")\n"
   ]
  },
  {
   "cell_type": "code",
   "execution_count": null,
   "id": "2cea595b-6113-464c-a303-ca84ff362802",
   "metadata": {},
   "outputs": [],
   "source": []
  }
 ],
 "metadata": {
  "kernelspec": {
   "display_name": "Python 3 (ipykernel)",
   "language": "python",
   "name": "python3"
  },
  "language_info": {
   "codemirror_mode": {
    "name": "ipython",
    "version": 3
   },
   "file_extension": ".py",
   "mimetype": "text/x-python",
   "name": "python",
   "nbconvert_exporter": "python",
   "pygments_lexer": "ipython3",
   "version": "3.12.4"
  }
 },
 "nbformat": 4,
 "nbformat_minor": 5
}
