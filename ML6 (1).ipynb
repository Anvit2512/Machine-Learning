{
 "cells": [
  {
   "cell_type": "code",
   "execution_count": 1,
   "id": "034d7a8d-e8d0-4c64-af02-25c522a018ec",
   "metadata": {},
   "outputs": [],
   "source": [
    "import numpy as np\n",
    "from sklearn.model_selection import train_test_split\n",
    "from sklearn.datasets import load_iris\n",
    "from sklearn.metrics import accuracy_score\n"
   ]
  },
  {
   "cell_type": "code",
   "execution_count": 3,
   "id": "2b358853-f04a-479e-b589-5f071bac8c3f",
   "metadata": {},
   "outputs": [
    {
     "name": "stdout",
     "output_type": "stream",
     "text": [
      "Feature names: ['sepal length (cm)', 'sepal width (cm)', 'petal length (cm)', 'petal width (cm)']\n",
      "Target names: ['setosa' 'versicolor' 'virginica']\n"
     ]
    }
   ],
   "source": [
    "# Load the iris dataset\n",
    "iris = load_iris()\n",
    "X = iris.data  # Features\n",
    "y = iris.target  # Labels (class)\n",
    "\n",
    "# Print feature and class names for clarity\n",
    "print(\"Feature names:\", iris.feature_names)\n",
    "print(\"Target names:\", iris.target_names)\n"
   ]
  },
  {
   "cell_type": "code",
   "execution_count": 5,
   "id": "0448bac4-4f31-42ee-8380-4092c3ccd69b",
   "metadata": {},
   "outputs": [],
   "source": [
    "# Split data into training and testing sets\n",
    "X_train, X_test, y_train, y_test = train_test_split(X, y, test_size=0.2, random_state=42)\n"
   ]
  },
  {
   "cell_type": "code",
   "execution_count": 7,
   "id": "88fbc5f2-520a-4de1-9baf-a2770da0304b",
   "metadata": {},
   "outputs": [
    {
     "name": "stdout",
     "output_type": "stream",
     "text": [
      "Prior probabilities: {0: 0.3333333333333333, 1: 0.3416666666666667, 2: 0.325}\n"
     ]
    }
   ],
   "source": [
    "def calculate_priors(y_train):\n",
    "    classes, counts = np.unique(y_train, return_counts=True)\n",
    "    priors = counts / len(y_train)\n",
    "    return dict(zip(classes, priors))\n",
    "\n",
    "priors = calculate_priors(y_train)\n",
    "print(\"Prior probabilities:\", priors)\n"
   ]
  },
  {
   "cell_type": "code",
   "execution_count": 9,
   "id": "4678c30d-2f7c-433a-92c1-52ec8236ab0c",
   "metadata": {},
   "outputs": [
    {
     "name": "stdout",
     "output_type": "stream",
     "text": [
      "Gaussian parameters (mean and variance): {0: {'mean': array([4.99  , 3.4525, 1.45  , 0.245 ]), 'var': array([0.1239    , 0.15249375, 0.033     , 0.010975  ])}, 1: {'mean': array([5.9195122 , 2.77073171, 4.24146341, 1.32195122]), 'var': array([0.28693635, 0.10011898, 0.22584176, 0.04122546])}, 2: {'mean': array([6.53333333, 2.96666667, 5.52051282, 2.        ]), 'var': array([0.4165812 , 0.0991453 , 0.28573307, 0.08205128])}}\n"
     ]
    }
   ],
   "source": [
    "def calculate_gaussian_parameters(X_train, y_train):\n",
    "    parameters = {}\n",
    "    classes = np.unique(y_train)\n",
    "    \n",
    "    for cls in classes:\n",
    "        X_cls = X_train[y_train == cls]\n",
    "        mean = np.mean(X_cls, axis=0)\n",
    "        var = np.var(X_cls, axis=0)\n",
    "        parameters[cls] = {'mean': mean, 'var': var}\n",
    "    \n",
    "    return parameters\n",
    "\n",
    "gaussian_params = calculate_gaussian_parameters(X_train, y_train)\n",
    "print(\"Gaussian parameters (mean and variance):\", gaussian_params)\n"
   ]
  },
  {
   "cell_type": "code",
   "execution_count": 11,
   "id": "9e982077-047d-45fd-ae99-dfc5402f729c",
   "metadata": {},
   "outputs": [],
   "source": [
    "def gaussian_likelihood(x, mean, var):\n",
    "    exponent = np.exp(-((x - mean) ** 2) / (2 * var))\n",
    "    return (1 / np.sqrt(2 * np.pi * var)) * exponent\n"
   ]
  },
  {
   "cell_type": "code",
   "execution_count": 13,
   "id": "47cf56ad-bf16-48ad-a292-053229656c7c",
   "metadata": {},
   "outputs": [],
   "source": [
    "def calculate_posterior(X, priors, params):\n",
    "    posteriors = []\n",
    "    \n",
    "    for cls, cls_params in params.items():\n",
    "        prior = np.log(priors[cls])\n",
    "        likelihood = np.sum(np.log(gaussian_likelihood(X, cls_params['mean'], cls_params['var'])))\n",
    "        posterior = prior + likelihood\n",
    "        posteriors.append(posterior)\n",
    "    \n",
    "    return np.argmax(posteriors)\n",
    "\n",
    "def predict(X_test, priors, params):\n",
    "    predictions = [calculate_posterior(x, priors, params) for x in X_test]\n",
    "    return np.array(predictions)\n"
   ]
  },
  {
   "cell_type": "code",
   "execution_count": 15,
   "id": "2a990745-825a-4912-bdab-72042df0ccf7",
   "metadata": {},
   "outputs": [
    {
     "name": "stdout",
     "output_type": "stream",
     "text": [
      "Accuracy: 100.00%\n"
     ]
    }
   ],
   "source": [
    "# Make predictions on the test set\n",
    "y_pred = predict(X_test, priors, gaussian_params)\n",
    "\n",
    "# Calculate accuracy\n",
    "accuracy = accuracy_score(y_test, y_pred)\n",
    "print(f\"Accuracy: {accuracy * 100:.2f}%\")\n"
   ]
  },
  {
   "cell_type": "code",
   "execution_count": 17,
   "id": "2ceaada7-8e1b-4b6d-9054-2f599ef3a363",
   "metadata": {},
   "outputs": [
    {
     "name": "stdout",
     "output_type": "stream",
     "text": [
      "Best parameters found: {'n_neighbors': 3}\n",
      "Best cross-validation accuracy: 0.9583333333333334\n",
      "Test accuracy with the best K: 100.00%\n"
     ]
    }
   ],
   "source": [
    "# Import necessary libraries\n",
    "from sklearn.datasets import load_iris\n",
    "from sklearn.neighbors import KNeighborsClassifier\n",
    "from sklearn.model_selection import GridSearchCV, train_test_split\n",
    "from sklearn.metrics import accuracy_score\n",
    "\n",
    "# Load the Iris dataset\n",
    "iris = load_iris()\n",
    "X = iris.data\n",
    "y = iris.target\n",
    "\n",
    "# Split the dataset into training and testing sets\n",
    "X_train, X_test, y_train, y_test = train_test_split(X, y, test_size=0.2, random_state=42)\n",
    "\n",
    "# Step 1: Define the model\n",
    "knn = KNeighborsClassifier()\n",
    "\n",
    "# Step 2: Define the parameter grid\n",
    "# We'll search for the best 'n_neighbors' value in the range from 1 to 10\n",
    "param_grid = {'n_neighbors': range(1, 11)}\n",
    "\n",
    "# Step 3: Set up GridSearchCV\n",
    "# We'll use 5-fold cross-validation\n",
    "grid_search = GridSearchCV(knn, param_grid, cv=5)\n",
    "\n",
    "# Step 4: Fit the model\n",
    "grid_search.fit(X_train, y_train)\n",
    "\n",
    "# Step 5: Obtain the best hyperparameter and best model\n",
    "print(\"Best parameters found:\", grid_search.best_params_)\n",
    "print(\"Best cross-validation accuracy:\", grid_search.best_score_)\n",
    "\n",
    "# Step 6: Make predictions with the best model on the test set\n",
    "best_knn = grid_search.best_estimator_\n",
    "y_pred = best_knn.predict(X_test)\n",
    "\n",
    "# Calculate the test accuracy\n",
    "test_accuracy = accuracy_score(y_test, y_pred)\n",
    "print(f\"Test accuracy with the best K: {test_accuracy * 100:.2f}%\")\n"
   ]
  },
  {
   "cell_type": "code",
   "execution_count": null,
   "id": "c674df6e-23ba-49b6-b7b9-b3d781e35bf0",
   "metadata": {},
   "outputs": [],
   "source": []
  }
 ],
 "metadata": {
  "kernelspec": {
   "display_name": "Python 3 (ipykernel)",
   "language": "python",
   "name": "python3"
  },
  "language_info": {
   "codemirror_mode": {
    "name": "ipython",
    "version": 3
   },
   "file_extension": ".py",
   "mimetype": "text/x-python",
   "name": "python",
   "nbconvert_exporter": "python",
   "pygments_lexer": "ipython3",
   "version": "3.12.4"
  }
 },
 "nbformat": 4,
 "nbformat_minor": 5
}
