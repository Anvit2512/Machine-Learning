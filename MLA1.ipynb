{
 "cells": [
  {
   "cell_type": "code",
   "execution_count": 1,
   "id": "acd1e436-c6c3-4dd6-9b5c-12289cfbab0c",
   "metadata": {},
   "outputs": [],
   "source": [
    "import numpy as np"
   ]
  },
  {
   "cell_type": "code",
   "execution_count": 2,
   "id": "ce9b720f-9f2c-44cf-9cdc-811095406c3c",
   "metadata": {},
   "outputs": [
    {
     "name": "stdout",
     "output_type": "stream",
     "text": [
      "[5 4 6 3 2 1]\n"
     ]
    }
   ],
   "source": [
    "arr = np.array([1, 2, 3, 6, 4, 5])\n",
    "arr2 = arr[::-1]\n",
    "\n",
    "print(arr2)"
   ]
  },
  {
   "cell_type": "code",
   "execution_count": 3,
   "id": "450d1ce6-7c20-44a2-a68f-b28519695843",
   "metadata": {},
   "outputs": [
    {
     "name": "stdout",
     "output_type": "stream",
     "text": [
      "[1 2 3 2 4 5 1 2 3]\n",
      "[1 2 3 2 4 5 1 2 3]\n"
     ]
    }
   ],
   "source": [
    "array1 = np.array([[1, 2, 3], [2, 4, 5], [1, 2, 3]])\n",
    "array_m1 = array1.flatten()\n",
    "\n",
    "print(array_m1)\n",
    "\n",
    "array1 = np.array([[1, 2, 3], [2, 4, 5], [1, 2, 3]])\n",
    "array_m2 = array1.ravel()\n",
    "\n",
    "print(array_m2)"
   ]
  },
  {
   "cell_type": "code",
   "execution_count": 4,
   "id": "de83441d-d84a-4356-9f9b-1aa86ca1f697",
   "metadata": {},
   "outputs": [
    {
     "name": "stdout",
     "output_type": "stream",
     "text": [
      "True\n"
     ]
    }
   ],
   "source": [
    "arr1 = np.array([[1, 2], [3, 4]])\n",
    "arr2 = np.array([[1, 2], [3, 4]])\n",
    "\n",
    "are_equal = np.all(arr1 == arr2)\n",
    "print(are_equal)"
   ]
  },
  {
   "cell_type": "code",
   "execution_count": 5,
   "id": "6bf10e38-c7bb-4216-8817-ca17cdd4df80",
   "metadata": {},
   "outputs": [
    {
     "name": "stdout",
     "output_type": "stream",
     "text": [
      "Most frequent value in x: 1\n",
      "Indices of the most frequent value in x: [0 5 7 8 9]\n"
     ]
    }
   ],
   "source": [
    "x = np.array([1, 2, 3, 4, 5, 1, 2, 1, 1, 1])\n",
    "most_frequent_value = np.bincount(x).argmax()\n",
    "indices = np.where(x == most_frequent_value)[0]\n",
    "print(\"Most frequent value in x:\", most_frequent_value)\n",
    "print(\"Indices of the most frequent value in x:\", indices)"
   ]
  },
  {
   "cell_type": "code",
   "execution_count": 7,
   "id": "66ddf733-704f-4ca5-8f7d-30e7dbdd138e",
   "metadata": {},
   "outputs": [
    {
     "name": "stdout",
     "output_type": "stream",
     "text": [
      "Most frequent value in y: 1\n",
      "Indices of the most frequent value in y: [0 1 2]\n"
     ]
    }
   ],
   "source": [
    "y = np.array([1, 1, 1, 2, 3, 4, 2, 4, 3, 3])\n",
    "most_frequent_value = np.bincount(y).argmax()\n",
    "indices = np.where(y == most_frequent_value)[0]\n",
    "print(\"Most frequent value in y:\", most_frequent_value)\n",
    "print(\"Indices of the most frequent value in y:\", indices)"
   ]
  },
  {
   "cell_type": "code",
   "execution_count": 8,
   "id": "e0f93772-7fda-45cc-a547-c8cf52edad60",
   "metadata": {},
   "outputs": [
    {
     "name": "stdout",
     "output_type": "stream",
     "text": [
      "Sum of all elements in gfg: 45\n"
     ]
    }
   ],
   "source": [
    "gfg = np.matrix('[4, 1, 9; 12, 3, 1; 4, 5, 6]')\n",
    "total_sum = np.sum(gfg)\n",
    "print(\"Sum of all elements in gfg:\", total_sum)\n"
   ]
  },
  {
   "cell_type": "code",
   "execution_count": 9,
   "id": "b2692128-f8c1-457b-93f6-934630a63711",
   "metadata": {},
   "outputs": [
    {
     "name": "stdout",
     "output_type": "stream",
     "text": [
      "Row-wise sum of elements in gfg:\n",
      "[[14]\n",
      " [16]\n",
      " [15]]\n"
     ]
    }
   ],
   "source": [
    "gfg = np.matrix('[4, 1, 9; 12, 3, 1; 4, 5, 6]')\n",
    "row_wise_sum = np.sum(gfg, axis=1)\n",
    "print(\"Row-wise sum of elements in gfg:\")\n",
    "print(row_wise_sum)"
   ]
  },
  {
   "cell_type": "code",
   "execution_count": 10,
   "id": "08e2ae21-28ad-4027-8487-66f0f251bf95",
   "metadata": {},
   "outputs": [
    {
     "name": "stdout",
     "output_type": "stream",
     "text": [
      "Column-wise sum of elements in gfg:\n",
      "[[20  9 16]]\n"
     ]
    }
   ],
   "source": [
    "gfg = np.matrix('[4, 1, 9; 12, 3, 1; 4, 5, 6]')\n",
    "column_wise_sum = np.sum(gfg, axis=0)\n",
    "print(\"Column-wise sum of elements in gfg:\")\n",
    "print(column_wise_sum)"
   ]
  },
  {
   "cell_type": "code",
   "execution_count": 11,
   "id": "eb61441c-7a72-4a0f-8e1c-2d5ad25c0b38",
   "metadata": {},
   "outputs": [
    {
     "name": "stdout",
     "output_type": "stream",
     "text": [
      "Sum of diagonal elements in n_array: 176\n"
     ]
    }
   ],
   "source": [
    "n_array = np.array([[55, 25, 15],\n",
    "                    [30, 44, 2],\n",
    "                    [11, 45, 77]])\n",
    "diagonal_sum = np.sum(np.diagonal(n_array))\n",
    "print(\"Sum of diagonal elements in n_array:\", diagonal_sum)"
   ]
  },
  {
   "cell_type": "code",
   "execution_count": 12,
   "id": "2da107c6-19c7-4f51-a3db-078dc97a95ad",
   "metadata": {},
   "outputs": [
    {
     "name": "stdout",
     "output_type": "stream",
     "text": [
      "Eigenvalues of the matrix n_array:\n",
      "[98.16835147 28.097044   49.73460452]\n"
     ]
    }
   ],
   "source": [
    "n_array = np.array([[55, 25, 15],\n",
    "                    [30, 44, 2],\n",
    "                    [11, 45, 77]])\n",
    "eigenvalues = np.linalg.eigvals(n_array)\n",
    "print(\"Eigenvalues of the matrix n_array:\")\n",
    "print(eigenvalues)"
   ]
  },
  {
   "cell_type": "code",
   "execution_count": 13,
   "id": "978cf716-3b5a-4232-a0c4-bce57f942fe9",
   "metadata": {},
   "outputs": [
    {
     "name": "stdout",
     "output_type": "stream",
     "text": [
      "\n",
      "Eigenvectors of the matrix n_array:\n",
      "[[ 0.4574917   0.34637121 -0.15017693]\n",
      " [ 0.28447814 -0.72784061 -0.4852124 ]\n",
      " [ 0.84248058  0.59184038  0.8614034 ]]\n"
     ]
    }
   ],
   "source": [
    "n_array = np.array([[55, 25, 15],\n",
    "                    [30, 44, 2],\n",
    "                    [11, 45, 77]])\n",
    "eigenvalues, eigenvectors = np.linalg.eig(n_array)\n",
    "print(\"\\nEigenvectors of the matrix n_array:\")\n",
    "print(eigenvectors)"
   ]
  },
  {
   "cell_type": "code",
   "execution_count": 14,
   "id": "11959aa7-bbbf-4c62-ab77-82f1025b198c",
   "metadata": {},
   "outputs": [
    {
     "name": "stdout",
     "output_type": "stream",
     "text": [
      "Inverse of the matrix n_array:\n",
      "[[ 0.02404141 -0.00911212 -0.00444671]\n",
      " [-0.01667882  0.02966905  0.0024785 ]\n",
      " [ 0.00631287 -0.01603732  0.01217379]]\n"
     ]
    }
   ],
   "source": [
    "n_array = np.array([[55, 25, 15],\n",
    "                    [30, 44, 2],\n",
    "                    [11, 45, 77]])\n",
    "inverse_matrix = np.linalg.inv(n_array)\n",
    "print(\"Inverse of the matrix n_array:\")\n",
    "print(inverse_matrix)"
   ]
  },
  {
   "cell_type": "code",
   "execution_count": 15,
   "id": "cc617050-95c2-45d9-87f3-6cadd179acce",
   "metadata": {},
   "outputs": [
    {
     "name": "stdout",
     "output_type": "stream",
     "text": [
      "Determinant of the matrix n_array:\n",
      "137180.0000000001\n"
     ]
    }
   ],
   "source": [
    "n_array = np.array([[55, 25, 15],\n",
    "                    [30, 44, 2],\n",
    "                    [11, 45, 77]])\n",
    "determinant = np.linalg.det(n_array)\n",
    "print(\"Determinant of the matrix n_array:\")\n",
    "print(determinant)"
   ]
  },
  {
   "cell_type": "code",
   "execution_count": 17,
   "id": "f82c391d-dabd-416f-a908-4baf056155d4",
   "metadata": {},
   "outputs": [
    {
     "name": "stdout",
     "output_type": "stream",
     "text": [
      "Product of matrices p and q:\n",
      "[[16 19]\n",
      " [26 31]]\n"
     ]
    }
   ],
   "source": [
    "p = np.array([[1, 2], [2, 3]])\n",
    "q = np.array([[4, 5], [6, 7]])\n",
    "product = np.dot(p, q)\n",
    "print(\"Product of matrices p and q:\")\n",
    "print(product)"
   ]
  },
  {
   "cell_type": "code",
   "execution_count": 18,
   "id": "aa7c43c6-8aa1-426b-9455-9d5813eae4c4",
   "metadata": {},
   "outputs": [
    {
     "name": "stdout",
     "output_type": "stream",
     "text": [
      "Covariance matrix between flattened p and q:\n",
      "[[0.66666667 1.        ]\n",
      " [1.         1.66666667]]\n"
     ]
    }
   ],
   "source": [
    "p = np.array([[1, 2], [2, 3]])\n",
    "q = np.array([[4, 5], [6, 7]])\n",
    "p_flat = p.flatten()\n",
    "q_flat = q.flatten()\n",
    "covariance_matrix = np.cov(p_flat, q_flat)\n",
    "print(\"Covariance matrix between flattened p and q:\")\n",
    "print(covariance_matrix)"
   ]
  },
  {
   "cell_type": "code",
   "execution_count": 20,
   "id": "de01e658-bca2-491e-b92e-f3c5ce6dedb8",
   "metadata": {},
   "outputs": [
    {
     "name": "stdout",
     "output_type": "stream",
     "text": [
      "Product of matrices p and q:\n",
      "[[16 19  5]\n",
      " [26 31  8]\n",
      " [46 55 14]]\n",
      "Covariance matrix between flattened p and q:\n",
      "[[2.16666667 0.23333333]\n",
      " [0.23333333 5.36666667]]\n"
     ]
    }
   ],
   "source": [
    "p = np.array([[1, 2], [2, 3], [4, 5]])\n",
    "q = np.array([[4, 5, 1], [6, 7, 2]])\n",
    "product = np.dot(p, q)\n",
    "print(\"Product of matrices p and q:\")\n",
    "print(product)\n",
    "p_flat = p.flatten()\n",
    "q_flat = q.flatten()\n",
    "covariance_matrix = np.cov(p_flat, q_flat)\n",
    "print(\"Covariance matrix between flattened p and q:\")\n",
    "print(covariance_matrix)"
   ]
  },
  {
   "cell_type": "code",
   "execution_count": 21,
   "id": "a9e45cba-8218-4cb7-9f69-bbc4b4f1e4ca",
   "metadata": {},
   "outputs": [
    {
     "name": "stdout",
     "output_type": "stream",
     "text": [
      "Inner product of matrices x and y:\n",
      "[[17 52]\n",
      " [13 62]]\n",
      "\n",
      "Outer product of matrices x and y:\n",
      "[[ 2 10  0 10 20  6]\n",
      " [ 3 15  0 15 30  9]\n",
      " [ 4 20  0 20 40 12]\n",
      " [ 3 15  0 15 30  9]\n",
      " [ 2 10  0 10 20  6]\n",
      " [ 9 45  0 45 90 27]]\n",
      "\n",
      "Cartesian product of matrices x and y:\n",
      "[[ 2  1]\n",
      " [ 2  5]\n",
      " [ 2  0]\n",
      " [ 2  5]\n",
      " [ 2 10]\n",
      " [ 2  3]\n",
      " [ 3  1]\n",
      " [ 3  5]\n",
      " [ 3  0]\n",
      " [ 3  5]\n",
      " [ 3 10]\n",
      " [ 3  3]\n",
      " [ 4  1]\n",
      " [ 4  5]\n",
      " [ 4  0]\n",
      " [ 4  5]\n",
      " [ 4 10]\n",
      " [ 4  3]\n",
      " [ 3  1]\n",
      " [ 3  5]\n",
      " [ 3  0]\n",
      " [ 3  5]\n",
      " [ 3 10]\n",
      " [ 3  3]\n",
      " [ 2  1]\n",
      " [ 2  5]\n",
      " [ 2  0]\n",
      " [ 2  5]\n",
      " [ 2 10]\n",
      " [ 2  3]\n",
      " [ 9  1]\n",
      " [ 9  5]\n",
      " [ 9  0]\n",
      " [ 9  5]\n",
      " [ 9 10]\n",
      " [ 9  3]]\n"
     ]
    }
   ],
   "source": [
    "x = np.array([[2, 3, 4], [3, 2, 9]])\n",
    "y = np.array([[1, 5, 0], [5, 10, 3]])\n",
    "inner_product = np.inner(x, y)\n",
    "print(\"Inner product of matrices x and y:\")\n",
    "print(inner_product)\n",
    "\n",
    "outer_product = np.outer(x, y)\n",
    "print(\"\\nOuter product of matrices x and y:\")\n",
    "print(outer_product)\n",
    "\n",
    "cartesian_product = np.array(np.meshgrid(x.flatten(), y.flatten())).T.reshape(-1, 2)\n",
    "print(\"\\nCartesian product of matrices x and y:\")\n",
    "print(cartesian_product)"
   ]
  },
  {
   "cell_type": "code",
   "execution_count": 22,
   "id": "94cf0c97-08ca-4a40-b938-9b6c17cf0295",
   "metadata": {},
   "outputs": [
    {
     "name": "stdout",
     "output_type": "stream",
     "text": [
      "[[1 2 3]\n",
      " [4 5 6]]\n"
     ]
    }
   ],
   "source": [
    "array = np.array([[1, -2, 3], [-4, 5, -6]])\n",
    "abs_array = np.abs(array)\n",
    "print(abs_array)"
   ]
  },
  {
   "cell_type": "code",
   "execution_count": 23,
   "id": "5e911e85-6597-4daa-993e-9a8f8a6109d4",
   "metadata": {},
   "outputs": [
    {
     "name": "stdout",
     "output_type": "stream",
     "text": [
      "Percentiles of the flattened array: [-3.5 -0.5  2.5]\n",
      "Percentiles for each column:\n",
      " [[-2.75 -0.25 -3.75]\n",
      " [-1.5   1.5  -1.5 ]\n",
      " [-0.25  3.25  0.75]]\n",
      "Percentiles for each row:\n",
      " [[-0.5 -5. ]\n",
      " [ 1.  -4. ]\n",
      " [ 2.   0.5]]\n"
     ]
    }
   ],
   "source": [
    "array = np.array([[1, -2, 3], [-4, 5, -6]])\n",
    "flattened_percentiles = np.percentile(array, [25, 50, 75])\n",
    "print(\"Percentiles of the flattened array:\", flattened_percentiles)\n",
    "column_percentiles = np.percentile(array, [25, 50, 75], axis=0)\n",
    "print(\"Percentiles for each column:\\n\", column_percentiles)\n",
    "row_percentiles = np.percentile(array, [25, 50, 75], axis=1)\n",
    "print(\"Percentiles for each row:\\n\", row_percentiles)"
   ]
  },
  {
   "cell_type": "code",
   "execution_count": 24,
   "id": "91559c65-0ef2-44fc-93d1-74bd62dcb218",
   "metadata": {},
   "outputs": [
    {
     "name": "stdout",
     "output_type": "stream",
     "text": [
      "Flattened array - Mean: -0.5\n",
      "Flattened array - Median: -0.5\n",
      "Flattened array - Standard Deviation: 3.8622100754188224\n",
      "Column-wise - Mean:\n",
      " [-1.5  1.5 -1.5]\n",
      "Column-wise - Median:\n",
      " [-1.5  1.5 -1.5]\n",
      "Column-wise - Standard Deviation:\n",
      " [2.5 3.5 4.5]\n",
      "Row-wise - Mean:\n",
      " [ 0.66666667 -1.66666667]\n",
      "Row-wise - Median:\n",
      " [ 1. -4.]\n",
      "Row-wise - Standard Deviation:\n",
      " [2.05480467 4.78423336]\n"
     ]
    }
   ],
   "source": [
    "array = np.array([[1, -2, 3], [-4, 5, -6]])\n",
    "flattened_mean = np.mean(array)\n",
    "\n",
    "flattened_median = np.median(array)\n",
    "\n",
    "flattened_std = np.std(array)\n",
    "\n",
    "print(\"Flattened array - Mean:\", flattened_mean)\n",
    "print(\"Flattened array - Median:\", flattened_median)\n",
    "print(\"Flattened array - Standard Deviation:\", flattened_std)\n",
    "\n",
    "column_mean = np.mean(array, axis=0)\n",
    "\n",
    "column_median = np.median(array, axis=0)\n",
    "\n",
    "column_std = np.std(array, axis=0)\n",
    "\n",
    "print(\"Column-wise - Mean:\\n\", column_mean)\n",
    "print(\"Column-wise - Median:\\n\", column_median)\n",
    "print(\"Column-wise - Standard Deviation:\\n\", column_std)\n",
    "\n",
    "row_mean = np.mean(array, axis=1)\n",
    "\n",
    "row_median = np.median(array, axis=1)\n",
    "\n",
    "row_std = np.std(array, axis=1)\n",
    "\n",
    "print(\"Row-wise - Mean:\\n\", row_mean)\n",
    "print(\"Row-wise - Median:\\n\", row_median)\n",
    "print(\"Row-wise - Standard Deviation:\\n\", row_std)"
   ]
  },
  {
   "cell_type": "code",
   "execution_count": 25,
   "id": "e8d1920e-4e69-4c68-a53c-ae37d5d90806",
   "metadata": {},
   "outputs": [
    {
     "name": "stdout",
     "output_type": "stream",
     "text": [
      "Original array: [-1.8 -1.6 -0.5  0.5  1.6  1.8  3. ]\n",
      "Floor values: [-2. -2. -1.  0.  1.  1.  3.]\n",
      "Ceiling values: [-1. -1. -0.  1.  2.  2.  3.]\n",
      "Truncated values: [-1. -1. -0.  0.  1.  1.  3.]\n",
      "Rounded values: [-2. -2. -0.  0.  2.  2.  3.]\n"
     ]
    }
   ],
   "source": [
    "a = np.array([-1.8, -1.6, -0.5, 0.5, 1.6, 1.8, 3.0])\n",
    "\n",
    "floor_values = np.floor(a)\n",
    "\n",
    "ceiling_values = np.ceil(a)\n",
    "\n",
    "truncated_values = np.trunc(a)\n",
    "\n",
    "rounded_values = np.round(a)\n",
    "\n",
    "print(\"Original array:\", a)\n",
    "print(\"Floor values:\", floor_values)\n",
    "print(\"Ceiling values:\", ceiling_values)\n",
    "print(\"Truncated values:\", truncated_values)\n",
    "print(\"Rounded values:\", rounded_values)"
   ]
  },
  {
   "cell_type": "code",
   "execution_count": 27,
   "id": "6bb543d1-dd7d-4f61-ad83-333ffe5ab3cc",
   "metadata": {},
   "outputs": [
    {
     "name": "stdout",
     "output_type": "stream",
     "text": [
      "Sorted array: [ 10  16  16  52  54  62 453]\n",
      "Indices of sorted array: [0 3 4 1 5 2 6]\n",
      "4 smallest elements: [10 16 16 52]\n",
      "5 largest elements: [453  62  54  52  16]\n"
     ]
    }
   ],
   "source": [
    "array = np.array([10, 52, 62, 16, 16, 54, 453])\n",
    "sorted_array = np.sort(array)\n",
    "print(\"Sorted array:\", sorted_array)\n",
    "sorted_indices = np.argsort(array)\n",
    "print(\"Indices of sorted array:\", sorted_indices)\n",
    "four_smallest = np.sort(array)[:4]\n",
    "print(\"4 smallest elements:\", four_smallest)\n",
    "five_largest = np.sort(array)[-5:][::-1]\n",
    "print(\"5 largest elements:\", five_largest)"
   ]
  },
  {
   "cell_type": "code",
   "execution_count": 28,
   "id": "d7d311e6-d0d0-4c32-99ba-d5aed9c76ee4",
   "metadata": {},
   "outputs": [
    {
     "name": "stdout",
     "output_type": "stream",
     "text": [
      "Integer elements only: [1. 2. 3. 2.]\n",
      "Float elements only: [1.2 2.2]\n"
     ]
    }
   ],
   "source": [
    "array = np.array([1.0, 1.2, 2.2, 2.0, 3.0, 2.0])\n",
    "integer_elements = array[np.modf(array)[0] == 0]\n",
    "print(\"Integer elements only:\", integer_elements)\n",
    "float_elements = array[np.modf(array)[0] != 0]\n",
    "print(\"Float elements only:\", float_elements)"
   ]
  },
  {
   "cell_type": "code",
   "execution_count": 36,
   "id": "a571f95d-cbf9-459a-ad78-ac27c054efd1",
   "metadata": {},
   "outputs": [
    {
     "name": "stdout",
     "output_type": "stream",
     "text": [
      "Image array saved to text files for rgb image\n"
     ]
    }
   ],
   "source": [
    "from PIL import Image\n",
    "import numpy as np\n",
    "import os\n",
    "\n",
    "def img_to_array(path):\n",
    "    if not os.path.isfile(path):\n",
    "        print(f\"Error: The file at path {path} does not exist.\")\n",
    "        return\n",
    "    try:\n",
    "        with Image.open(path) as img:\n",
    "            img_array = np.array(img)\n",
    "            if len(img_array.shape) == 2:\n",
    "                mode = 'grayscale'\n",
    "                file_name = f\"{mode}_image_array.txt\"\n",
    "                np.savetxt(file_name, img_array, fmt='%d', delimiter=',')\n",
    "            \n",
    "            elif len(img_array.shape) == 3 and img_array.shape[2] == 3:\n",
    "                mode = 'rgb'\n",
    "                for i, color in enumerate(['R', 'G', 'B']):\n",
    "                    channel_array = img_array[:, :, i]\n",
    "                    file_name = f\"{mode}_{color}_channel.txt\"\n",
    "                    np.savetxt(file_name, channel_array, fmt='%d', delimiter=',')\n",
    "            \n",
    "            else:\n",
    "                raise ValueError(\"Unsupported image format\")\n",
    "            \n",
    "            print(f\"Image array saved to text files for {mode} image\")\n",
    "\n",
    "    except Exception as e:\n",
    "        print(f\"An error occurred: {e}\")\n",
    "img_to_array(r'D:\\shouts-animals-watch-baby-hemingway.png')\n",
    "\n"
   ]
  },
  {
   "cell_type": "code",
   "execution_count": 37,
   "id": "8463db57-f3b3-41fb-9220-a6682191344c",
   "metadata": {},
   "outputs": [
    {
     "name": "stdout",
     "output_type": "stream",
     "text": [
      "Image array saved to text files for rgb image\n"
     ]
    }
   ],
   "source": [
    "from PIL import Image\n",
    "import numpy as np\n",
    "import os\n",
    "\n",
    "def img_to_array(path):\n",
    "    if not os.path.isfile(path):\n",
    "        print(f\"Error: The file at path {path} does not exist.\")\n",
    "        return\n",
    "    try:\n",
    "        with Image.open(path) as img:\n",
    "            img_array = np.array(img)\n",
    "            if len(img_array.shape) == 2:\n",
    "                mode = 'grayscale'\n",
    "                file_name = f\"{mode}_image_array.txt\"\n",
    "                np.savetxt(file_name, img_array, fmt='%d', delimiter=',')\n",
    "            \n",
    "            elif len(img_array.shape) == 3 and img_array.shape[2] == 3:\n",
    "                mode = 'rgb'\n",
    "                for i, color in enumerate(['R', 'G', 'B']):\n",
    "                    channel_array = img_array[:, :, i]\n",
    "                    file_name = f\"{mode}_{color}_channel.txt\"\n",
    "                    np.savetxt(file_name, channel_array, fmt='%d', delimiter=',')\n",
    "            \n",
    "            else:\n",
    "                raise ValueError(\"Unsupported image format\")\n",
    "            \n",
    "            print(f\"Image array saved to text files for {mode} image\")\n",
    "\n",
    "    except Exception as e:\n",
    "        print(f\"An error occurred: {e}\")\n",
    "img_to_array(r'D:\\B2DBy.jpg')\n"
   ]
  },
  {
   "cell_type": "code",
   "execution_count": null,
   "id": "d5cb20af-046d-4d50-930e-ffbfd490172e",
   "metadata": {},
   "outputs": [],
   "source": []
  }
 ],
 "metadata": {
  "kernelspec": {
   "display_name": "Python 3 (ipykernel)",
   "language": "python",
   "name": "python3"
  },
  "language_info": {
   "codemirror_mode": {
    "name": "ipython",
    "version": 3
   },
   "file_extension": ".py",
   "mimetype": "text/x-python",
   "name": "python",
   "nbconvert_exporter": "python",
   "pygments_lexer": "ipython3",
   "version": "3.11.7"
  }
 },
 "nbformat": 4,
 "nbformat_minor": 5
}
